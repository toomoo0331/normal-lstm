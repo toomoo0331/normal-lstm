{
 "cells": [
  {
   "cell_type": "code",
   "execution_count": 7,
   "metadata": {},
   "outputs": [],
   "source": [
    "import csv\n",
    "from PIL import Image\n",
    "import matplotlib.pyplot as plt\n",
    "import numpy as np\n",
    "import cv2\n",
    "import os\n",
    "import random"
   ]
  },
  {
   "cell_type": "code",
   "execution_count": 12,
   "metadata": {},
   "outputs": [],
   "source": [
    "#どんくらいで学習させるか関連\n",
    "timesteps=10 #前後に見るフレーム数（前にtimestepsフレーム、後ろにtimestepsフレームという意味）\n",
    "camera=5 #カメラの数\n",
    "\n",
    "rate = 5 #飛ばすフレーム数（30FPSを30/rateのFPSの動画に疑似変換する．）\n",
    "\n",
    "#画像関連 \n",
    "channels=3\n",
    "img_width=50\n",
    "img_height=50\n",
    "\n",
    "#LSTMなどで用いる値\n",
    "epochs = 100 # エポック数 \n",
    "batch_size = 5 # バッチサイズ"
   ]
  },
  {
   "cell_type": "code",
   "execution_count": 132,
   "metadata": {},
   "outputs": [],
   "source": [
    "class DataLoader2:\n",
    "    def __init__(self, camera_num, folder_name, width, height):\n",
    "        self.camera_num = camera_num\n",
    "        self.folder_name =folder_name\n",
    "        self.data_foldername=folder_name\n",
    "        self.samples=0\n",
    "        self.width=width\n",
    "        self.height=height\n",
    "        self.caps=[]\n",
    "        self.save_numpy()\n",
    "        \n",
    "    def save_numpy(self):\n",
    "        os.makedirs(self.data_foldername+\"train/\", exist_ok=True)\n",
    "        os.makedirs(self.data_foldername+\"label/\", exist_ok=True)\n",
    "        \n",
    "        for i in range(0,self.camera_num):\n",
    "            video_path = self.folder_name+\"video/\"+str(i)+\".mp4\"\n",
    "            self.caps.append(cv2.VideoCapture(video_path))\n",
    "            \n",
    "        self.video_len = int(self.caps[0].get(cv2.CAP_PROP_FRAME_COUNT))\n",
    "        print(self.video_len)\n",
    "            \n",
    "        if not (os.path.isfile(self.data_foldername+\"train_\"+str(rate)+\".npy\")):\n",
    "            self.make_numpy_testData()\n",
    "            self.make_numpy_labelData()\n",
    "        self.learnData=np.load(self.data_foldername+\"train_\"+str(rate)+\".npy\")\n",
    "        self.labelData=np.load(self.data_foldername+\"label_\"+str(rate)+\".npy\")\n",
    "        print(self.learnData.shape)\n",
    "        print(self.labelData.shape)\n",
    "        \n",
    "        \n",
    "    def make_numpy_testData(self):\n",
    "        learnData=[]\n",
    "        for i in range(0, self.camera_num):\n",
    "            print()\n",
    "            img_list=[]\n",
    "            for j in range(0,self.video_len):\n",
    "                \n",
    "                pro_size=20\n",
    "                bar = int(j*pro_size/self.video_len)\n",
    "                pro_bar = ('=' * bar) + (' ' * (pro_size - bar))\n",
    "                percent ='{:03f}'.format(j / self.video_len * 100.)\n",
    "                print('\\r{0}/{1} [{2}] {3}%'.format((i+1), self.camera_num, pro_bar, percent), end='')\n",
    "                \n",
    "                ret, frame = self.caps[i].read()\n",
    "                if(j%rate==0):\n",
    "                    frame = cv2.cvtColor(frame, cv2.COLOR_BGR2RGB)\n",
    "                    img = cv2.resize(frame, (self.height, self.width))\n",
    "                    img = img / 255.\n",
    "                    img_list.append(img)\n",
    "            learnData.append(img_list)\n",
    "            \n",
    "        tmp_list=np.array(learnData)\n",
    "        tmp_list=tmp_list.astype(np.float)\n",
    "        np.save(self.data_foldername+\"train_\"+str(rate)+\".npy\", tmp_list)\n",
    "        print(tmp_list.shape)\n",
    "    \n",
    "        \n",
    "    def make_traindata(self, timesteps):\n",
    "        sequence_num = 2*timesteps + 1\n",
    "        data_name=self.data_foldername+\"train/0.npy\"\n",
    "        if (os.path.isfile(data_name)):\n",
    "            test=np.load(data_name)\n",
    "        else:\n",
    "            for i in range(0, self.learnData.shape[1]-sequence_num+1):\n",
    "                #まずはすべての分だけ回す\n",
    "                pro_size=20\n",
    "                bar = int(i*pro_size/self.learnData.shape[1])\n",
    "                pro_bar = ('=' * bar) + (' ' * (pro_size - bar))\n",
    "                percent ='{:03f}'.format(i / self.learnData.shape[1] * 100.)\n",
    "                print('\\r [{0}] {1}%'.format(pro_bar, percent), end='')\n",
    "                \n",
    "                tmp_list = np.empty((0, sequence_num, self.width, self.height, 3), np.float)\n",
    "                for camera in range(0, self.camera_num):\n",
    "                    #カメラの台数だけ回す\n",
    "                    first_list =np.empty((0, self.width, self.height, 3), np.float)\n",
    "                    for l in range(0, sequence_num):\n",
    "                        #timesteps分のndarrayを作る．\n",
    "                        img=self.learnData[camera,i+l]\n",
    "                        first_list =np.append(first_list, [img], axis=0)\n",
    "                    tmp_list = np.append(tmp_list, [first_list],axis=0)\n",
    "                np.save(self.data_foldername+\"train/\"+ str(i) +\".npy\", tmp_list)\n",
    "    \n",
    "    def make_numpy_labeldata(self):\n",
    "        with open(self.folder_name+\"head.csv\") as f:\n",
    "            reader = csv.reader(f)\n",
    "            l = [row for row in reader]\n",
    "            \n",
    "        all_label=[row for row in l[1:]]\n",
    "        tmp_list = np.empty((0, self.camera_num), np.int)\n",
    "        one_hot = np.eye(self.camera_num)\n",
    "        for i in range(len(all_label)):\n",
    "            if(i%rate==0):\n",
    "                label=one_hot[int(all_label[i][1])]\n",
    "                tmp_list=np.append(tmp_list, [label], axis=0)\n",
    "        np.save(self.data_foldername+\"label_\"+ str(rate) +\".npy\", tmp_list)\n",
    "        \n",
    "    \n",
    "    def make_labeldata(self, timesteps):\n",
    "        start = timesteps\n",
    "        end = self.labelData.shape[0]-timesteps\n",
    "        for i in range(start, end):\n",
    "            np.save(self.data_foldername+\"label/\"+ str(i-timesteps) +\".npy\", self.labelData[i])\n",
    "        \n",
    "                \n",
    "                \n",
    "    def get_traindata(self, num):\n",
    "        data_name=self.data_foldername+\"train/\"+str(num)+\".npy\"\n",
    "        test=np.load(data_name)\n",
    "        return test\n",
    "    \n",
    "    def get_image(self, camera_num, frame_num):    \n",
    "        self.caps[camera_num].set(cv2.CAP_PROP_POS_FRAMES, frame_num)\n",
    "        ret, frame = self.caps[camera_num].read()\n",
    "        return frame\n",
    "    \n",
    "    def show(self):\n",
    "        print(0,self.get_traindata(0).shape)"
   ]
  },
  {
   "cell_type": "code",
   "execution_count": 133,
   "metadata": {},
   "outputs": [
    {
     "name": "stdout",
     "output_type": "stream",
     "text": [
      "18000\n",
      "(5, 3600, 50, 50, 3)\n",
      "(3600, 5)\n"
     ]
    }
   ],
   "source": [
    "data = DataLoader2(camera, \"../../data/test0/\", img_width, img_height)"
   ]
  },
  {
   "cell_type": "code",
   "execution_count": 134,
   "metadata": {},
   "outputs": [
    {
     "name": "stdout",
     "output_type": "stream",
     "text": [
      " [=================== ] 99.416667%"
     ]
    }
   ],
   "source": [
    "data.make_traindata(timesteps)\n",
    "data.make_labeldata(timesteps)"
   ]
  },
  {
   "cell_type": "code",
   "execution_count": 111,
   "metadata": {},
   "outputs": [],
   "source": []
  },
  {
   "cell_type": "code",
   "execution_count": null,
   "metadata": {},
   "outputs": [],
   "source": []
  }
 ],
 "metadata": {
  "kernelspec": {
   "display_name": "Python 3",
   "language": "python",
   "name": "python3"
  },
  "language_info": {
   "codemirror_mode": {
    "name": "ipython",
    "version": 3
   },
   "file_extension": ".py",
   "mimetype": "text/x-python",
   "name": "python",
   "nbconvert_exporter": "python",
   "pygments_lexer": "ipython3",
   "version": "3.7.4"
  }
 },
 "nbformat": 4,
 "nbformat_minor": 2
}
