{
 "cells": [
  {
   "cell_type": "code",
   "execution_count": 1,
   "metadata": {},
   "outputs": [
    {
     "name": "stderr",
     "output_type": "stream",
     "text": [
      "Using TensorFlow backend.\n"
     ]
    }
   ],
   "source": [
    "import tensorflow as tf\n",
    "from keras import backend as K\n",
    "# from normal_lstm import base_model, my_generator\n",
    "# model_folder =\"/home/kei666/tomo/lstm-cnn/data/normal_lstm/0/\"\n",
    "from max_pooling import base_model, my_generator\n",
    "model_folder =\"/home/kei666/tomo/lstm-cnn/data/max_pooling/0/\"\n",
    "\n",
    "import matplotlib.pyplot as plt\n",
    "\n",
    "import numpy as np\n",
    "import os\n",
    "import json\n",
    "\n",
    "config = tf.ConfigProto()\n",
    "config.gpu_options.allow_growth = True\n",
    "config.gpu_options.visible_device_list = \"0\"\n",
    "K.set_session(tf.Session(config=config))"
   ]
  },
  {
   "cell_type": "code",
   "execution_count": 2,
   "metadata": {},
   "outputs": [],
   "source": [
    "#カメラの数\n",
    "camera=5\n",
    "\n",
    "#データの場所\n",
    "data_folder =\"/home/kei666/tomo/lstm-cnn/data/\"\n",
    "\n",
    "#画像関連 \n",
    "channels=3\n",
    "img_width=50\n",
    "img_height=50\n",
    "\n",
    "timesteps=10"
   ]
  },
  {
   "cell_type": "code",
   "execution_count": 3,
   "metadata": {},
   "outputs": [
    {
     "name": "stdout",
     "output_type": "stream",
     "text": [
      "10815\n"
     ]
    }
   ],
   "source": [
    "train_path = data_folder + \"test0/train/\"\n",
    "label_path = data_folder + \"test0/label/\"\n",
    "\n",
    "list1 = os.listdir(train_path)\n",
    "train_paths = []\n",
    "label_paths = []\n",
    "for i in range(len(list1)):\n",
    "    train_paths.append(train_path+str(i)+\".npy\")\n",
    "    label_paths.append(label_path+str(i)+\".npy\")\n",
    "print(len(train_paths))"
   ]
  },
  {
   "cell_type": "code",
   "execution_count": 4,
   "metadata": {},
   "outputs": [
    {
     "name": "stdout",
     "output_type": "stream",
     "text": [
      "WARNING:tensorflow:From /home/kei666/anaconda3/envs/lstm/lib/python3.7/site-packages/keras/backend/tensorflow_backend.py:74: The name tf.get_default_graph is deprecated. Please use tf.compat.v1.get_default_graph instead.\n",
      "\n",
      "WARNING:tensorflow:From /home/kei666/anaconda3/envs/lstm/lib/python3.7/site-packages/keras/backend/tensorflow_backend.py:517: The name tf.placeholder is deprecated. Please use tf.compat.v1.placeholder instead.\n",
      "\n",
      "WARNING:tensorflow:From /home/kei666/anaconda3/envs/lstm/lib/python3.7/site-packages/keras/backend/tensorflow_backend.py:4138: The name tf.random_uniform is deprecated. Please use tf.random.uniform instead.\n",
      "\n",
      "WARNING:tensorflow:From /home/kei666/anaconda3/envs/lstm/lib/python3.7/site-packages/keras/backend/tensorflow_backend.py:3976: The name tf.nn.max_pool is deprecated. Please use tf.nn.max_pool2d instead.\n",
      "\n",
      "WARNING:tensorflow:From /home/kei666/anaconda3/envs/lstm/lib/python3.7/site-packages/keras/backend/tensorflow_backend.py:174: The name tf.get_default_session is deprecated. Please use tf.compat.v1.get_default_session instead.\n",
      "\n",
      "WARNING:tensorflow:From /home/kei666/anaconda3/envs/lstm/lib/python3.7/site-packages/keras/backend/tensorflow_backend.py:190: The name tf.global_variables is deprecated. Please use tf.compat.v1.global_variables instead.\n",
      "\n",
      "WARNING:tensorflow:From /home/kei666/anaconda3/envs/lstm/lib/python3.7/site-packages/keras/backend/tensorflow_backend.py:199: The name tf.is_variable_initialized is deprecated. Please use tf.compat.v1.is_variable_initialized instead.\n",
      "\n",
      "WARNING:tensorflow:From /home/kei666/anaconda3/envs/lstm/lib/python3.7/site-packages/keras/backend/tensorflow_backend.py:206: The name tf.variables_initializer is deprecated. Please use tf.compat.v1.variables_initializer instead.\n",
      "\n",
      "WARNING:tensorflow:From /home/kei666/anaconda3/envs/lstm/lib/python3.7/site-packages/keras/backend/tensorflow_backend.py:1834: The name tf.nn.fused_batch_norm is deprecated. Please use tf.compat.v1.nn.fused_batch_norm instead.\n",
      "\n",
      "WARNING:tensorflow:From /home/kei666/anaconda3/envs/lstm/lib/python3.7/site-packages/keras/backend/tensorflow_backend.py:133: The name tf.placeholder_with_default is deprecated. Please use tf.compat.v1.placeholder_with_default instead.\n",
      "\n",
      "WARNING:tensorflow:From /home/kei666/anaconda3/envs/lstm/lib/python3.7/site-packages/keras/backend/tensorflow_backend.py:4185: The name tf.truncated_normal is deprecated. Please use tf.random.truncated_normal instead.\n",
      "\n",
      "WARNING:tensorflow:From /home/kei666/anaconda3/envs/lstm/lib/python3.7/site-packages/keras/backend/tensorflow_backend.py:3445: calling dropout (from tensorflow.python.ops.nn_ops) with keep_prob is deprecated and will be removed in a future version.\n",
      "Instructions for updating:\n",
      "Please use `rate` instead of `keep_prob`. Rate should be set to `rate = 1 - keep_prob`.\n",
      "WARNING:tensorflow:From /home/kei666/anaconda3/envs/lstm/lib/python3.7/site-packages/keras/optimizers.py:790: The name tf.train.Optimizer is deprecated. Please use tf.compat.v1.train.Optimizer instead.\n",
      "\n",
      "WARNING:tensorflow:From /home/kei666/anaconda3/envs/lstm/lib/python3.7/site-packages/keras/backend/tensorflow_backend.py:3376: The name tf.log is deprecated. Please use tf.math.log instead.\n",
      "\n",
      "WARNING:tensorflow:From /home/kei666/anaconda3/envs/lstm/lib/python3.7/site-packages/tensorflow_core/python/ops/nn_impl.py:183: where (from tensorflow.python.ops.array_ops) is deprecated and will be removed in a future version.\n",
      "Instructions for updating:\n",
      "Use tf.where in 2.0, which has the same broadcast rule as np.where\n",
      "__________________________________________________________________________________________________\n",
      "Layer (type)                    Output Shape         Param #     Connected to                     \n",
      "==================================================================================================\n",
      "input_4 (InputLayer)            (None, 21, 50, 50, 3 0                                            \n",
      "__________________________________________________________________________________________________\n",
      "input_5 (InputLayer)            (None, 21, 50, 50, 3 0                                            \n",
      "__________________________________________________________________________________________________\n",
      "input_6 (InputLayer)            (None, 21, 50, 50, 3 0                                            \n",
      "__________________________________________________________________________________________________\n",
      "input_7 (InputLayer)            (None, 21, 50, 50, 3 0                                            \n",
      "__________________________________________________________________________________________________\n",
      "input_8 (InputLayer)            (None, 21, 50, 50, 3 0                                            \n",
      "__________________________________________________________________________________________________\n",
      "shared_LSTMlayers (Model)       (None, 1, 256)       12537920    input_4[0][0]                    \n",
      "                                                                 input_5[0][0]                    \n",
      "                                                                 input_6[0][0]                    \n",
      "                                                                 input_7[0][0]                    \n",
      "                                                                 input_8[0][0]                    \n",
      "__________________________________________________________________________________________________\n",
      "concatenate_1 (Concatenate)     (None, 5, 256)       0           shared_LSTMlayers[1][0]          \n",
      "                                                                 shared_LSTMlayers[2][0]          \n",
      "                                                                 shared_LSTMlayers[3][0]          \n",
      "                                                                 shared_LSTMlayers[4][0]          \n",
      "                                                                 shared_LSTMlayers[5][0]          \n",
      "__________________________________________________________________________________________________\n",
      "max_pooling1d_1 (MaxPooling1D)  (None, 1, 256)       0           concatenate_1[0][0]              \n",
      "__________________________________________________________________________________________________\n",
      "concatenate_2 (Concatenate)     (None, 1, 512)       0           shared_LSTMlayers[1][0]          \n",
      "                                                                 max_pooling1d_1[0][0]            \n",
      "__________________________________________________________________________________________________\n",
      "concatenate_3 (Concatenate)     (None, 1, 512)       0           shared_LSTMlayers[2][0]          \n",
      "                                                                 max_pooling1d_1[0][0]            \n",
      "__________________________________________________________________________________________________\n",
      "concatenate_4 (Concatenate)     (None, 1, 512)       0           shared_LSTMlayers[3][0]          \n",
      "                                                                 max_pooling1d_1[0][0]            \n",
      "__________________________________________________________________________________________________\n",
      "concatenate_5 (Concatenate)     (None, 1, 512)       0           shared_LSTMlayers[4][0]          \n",
      "                                                                 max_pooling1d_1[0][0]            \n",
      "__________________________________________________________________________________________________\n",
      "concatenate_6 (Concatenate)     (None, 1, 512)       0           shared_LSTMlayers[5][0]          \n",
      "                                                                 max_pooling1d_1[0][0]            \n",
      "__________________________________________________________________________________________________\n",
      "reshape_2 (Reshape)             (None, 512)          0           concatenate_2[0][0]              \n",
      "__________________________________________________________________________________________________\n",
      "reshape_3 (Reshape)             (None, 512)          0           concatenate_3[0][0]              \n",
      "__________________________________________________________________________________________________\n",
      "reshape_4 (Reshape)             (None, 512)          0           concatenate_4[0][0]              \n",
      "__________________________________________________________________________________________________\n",
      "reshape_5 (Reshape)             (None, 512)          0           concatenate_5[0][0]              \n",
      "__________________________________________________________________________________________________\n",
      "reshape_6 (Reshape)             (None, 512)          0           concatenate_6[0][0]              \n",
      "__________________________________________________________________________________________________\n",
      "shared_Ratelayers (Model)       (None, 1)            131585      reshape_2[0][0]                  \n",
      "                                                                 reshape_3[0][0]                  \n",
      "                                                                 reshape_4[0][0]                  \n",
      "                                                                 reshape_5[0][0]                  \n",
      "                                                                 reshape_6[0][0]                  \n",
      "==================================================================================================\n",
      "Total params: 12,669,505\n",
      "Trainable params: 12,661,569\n",
      "Non-trainable params: 7,936\n",
      "__________________________________________________________________________________________________\n",
      "None\n"
     ]
    }
   ],
   "source": [
    "# モデル定義\n",
    "pred = base_model.Prediction(timesteps, camera, img_width, img_height)\n",
    "model = pred.create_model()\n",
    "print(model.summary())"
   ]
  },
  {
   "cell_type": "code",
   "execution_count": null,
   "metadata": {},
   "outputs": [
    {
     "name": "stdout",
     "output_type": "stream",
     "text": [
      "WARNING:tensorflow:From /home/kei666/anaconda3/envs/lstm/lib/python3.7/site-packages/keras/backend/tensorflow_backend.py:986: The name tf.assign_add is deprecated. Please use tf.compat.v1.assign_add instead.\n",
      "\n",
      "WARNING:tensorflow:From /home/kei666/anaconda3/envs/lstm/lib/python3.7/site-packages/keras/backend/tensorflow_backend.py:973: The name tf.assign is deprecated. Please use tf.compat.v1.assign instead.\n",
      "\n",
      "Epoch 1/100\n",
      "1731/1731 [==============================] - 1148s 663ms/step - loss: 3.3696 - shared_Ratelayers_loss: 0.6739 - shared_Ratelayers_acc: 0.6193 - shared_Ratelayers_acc_1: 0.6191 - shared_Ratelayers_acc_2: 0.6195 - shared_Ratelayers_acc_3: 0.6194 - shared_Ratelayers_acc_4: 0.6192 - val_loss: 3.8819 - val_shared_Ratelayers_loss: 0.7764 - val_shared_Ratelayers_acc: 0.4646 - val_shared_Ratelayers_acc_1: 0.4646 - val_shared_Ratelayers_acc_2: 0.4646 - val_shared_Ratelayers_acc_3: 0.4646 - val_shared_Ratelayers_acc_4: 0.4646\n",
      "Epoch 2/100\n",
      " 110/1731 [>.............................] - ETA: 14:27 - loss: 3.3049 - shared_Ratelayers_loss: 0.6610 - shared_Ratelayers_acc: 0.6218 - shared_Ratelayers_acc_1: 0.6218 - shared_Ratelayers_acc_2: 0.6218 - shared_Ratelayers_acc_3: 0.6218 - shared_Ratelayers_acc_4: 0.6218"
     ]
    }
   ],
   "source": [
    "val_count = int(len(train_paths) * 0.2)\n",
    "train_gen = my_generator.MyGenerator(\n",
    "                             train_paths[val_count:], \n",
    "                             label_paths[val_count:], \n",
    "                             batch_size=5)\n",
    "val_gen = my_generator.MyGenerator(\n",
    "                             train_paths[:val_count], \n",
    "                             label_paths[:val_count], \n",
    "                             batch_size=5)\n",
    "history = model.fit_generator(\n",
    "    train_gen, \n",
    "    steps_per_epoch=train_gen.num_batches_per_epoch, \n",
    "    validation_data=val_gen,\n",
    "    validation_steps=val_gen.num_batches_per_epoch,\n",
    "    epochs=100,\n",
    "    class_weight={0:1,1:4},\n",
    "    shuffle=True)"
   ]
  },
  {
   "cell_type": "code",
   "execution_count": null,
   "metadata": {},
   "outputs": [],
   "source": [
    "model.save(model_folder+'sample.h5')\n",
    "with open(model_folder+'history.json', 'w') as f:\n",
    "    json.dump(history.history, f)"
   ]
  },
  {
   "cell_type": "code",
   "execution_count": null,
   "metadata": {},
   "outputs": [],
   "source": [
    "# Plot training & validation accuracy values\n",
    "plt.plot(history.history['acc'])\n",
    "plt.plot(history.history['val_acc'])\n",
    "plt.title('Model accuracy')\n",
    "plt.ylabel('Accuracy')\n",
    "plt.xlabel('Epoch')\n",
    "plt.legend(['Train', 'Test'], loc='upper left')\n",
    "plt.show()\n",
    "\n",
    "# Plot training & validation loss values\n",
    "plt.plot(history.history['loss'])\n",
    "plt.plot(history.history['val_loss'])\n",
    "plt.title('Model loss')\n",
    "plt.ylabel('Loss')\n",
    "plt.xlabel('Epoch')\n",
    "plt.legend(['Train', 'Test'], loc='upper left')\n",
    "plt.show()"
   ]
  },
  {
   "cell_type": "code",
   "execution_count": null,
   "metadata": {},
   "outputs": [],
   "source": []
  }
 ],
 "metadata": {
  "kernelspec": {
   "display_name": "lstm",
   "language": "python",
   "name": "lstm"
  },
  "language_info": {
   "codemirror_mode": {
    "name": "ipython",
    "version": 3
   },
   "file_extension": ".py",
   "mimetype": "text/x-python",
   "name": "python",
   "nbconvert_exporter": "python",
   "pygments_lexer": "ipython3",
   "version": "3.7.5"
  }
 },
 "nbformat": 4,
 "nbformat_minor": 2
}
